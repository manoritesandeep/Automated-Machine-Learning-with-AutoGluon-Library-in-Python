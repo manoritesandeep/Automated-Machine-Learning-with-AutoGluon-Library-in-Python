{
 "cells": [
  {
   "attachments": {},
   "cell_type": "markdown",
   "metadata": {},
   "source": [
    "MultiModalPredictor with Image, Natural Text, and Tabular Data"
   ]
  },
  {
   "cell_type": "code",
   "execution_count": 1,
   "metadata": {},
   "outputs": [],
   "source": [
    "from autogluon.tabular import TabularDataset"
   ]
  },
  {
   "cell_type": "code",
   "execution_count": 2,
   "metadata": {},
   "outputs": [],
   "source": [
    "data = TabularDataset(\"data/petfinder/data.csv\")"
   ]
  },
  {
   "cell_type": "code",
   "execution_count": 3,
   "metadata": {},
   "outputs": [
    {
     "data": {
      "text/html": [
       "<div>\n",
       "<style scoped>\n",
       "    .dataframe tbody tr th:only-of-type {\n",
       "        vertical-align: middle;\n",
       "    }\n",
       "\n",
       "    .dataframe tbody tr th {\n",
       "        vertical-align: top;\n",
       "    }\n",
       "\n",
       "    .dataframe thead th {\n",
       "        text-align: right;\n",
       "    }\n",
       "</style>\n",
       "<table border=\"1\" class=\"dataframe\">\n",
       "  <thead>\n",
       "    <tr style=\"text-align: right;\">\n",
       "      <th></th>\n",
       "      <th>Type</th>\n",
       "      <th>Name</th>\n",
       "      <th>Age</th>\n",
       "      <th>Breed1</th>\n",
       "      <th>Breed2</th>\n",
       "      <th>Gender</th>\n",
       "      <th>Color1</th>\n",
       "      <th>Color2</th>\n",
       "      <th>Color3</th>\n",
       "      <th>MaturitySize</th>\n",
       "      <th>FurLength</th>\n",
       "      <th>Vaccinated</th>\n",
       "      <th>Dewormed</th>\n",
       "      <th>Sterilized</th>\n",
       "      <th>Health</th>\n",
       "      <th>Quantity</th>\n",
       "      <th>Fee</th>\n",
       "      <th>State</th>\n",
       "      <th>RescuerID</th>\n",
       "      <th>VideoAmt</th>\n",
       "      <th>Description</th>\n",
       "      <th>PetID</th>\n",
       "      <th>PhotoAmt</th>\n",
       "      <th>AdoptionSpeed</th>\n",
       "      <th>Images</th>\n",
       "    </tr>\n",
       "  </thead>\n",
       "  <tbody>\n",
       "    <tr>\n",
       "      <th>0</th>\n",
       "      <td>2</td>\n",
       "      <td>Yumi Hamasaki</td>\n",
       "      <td>4</td>\n",
       "      <td>292</td>\n",
       "      <td>265</td>\n",
       "      <td>2</td>\n",
       "      <td>1</td>\n",
       "      <td>5</td>\n",
       "      <td>7</td>\n",
       "      <td>2</td>\n",
       "      <td>2</td>\n",
       "      <td>1</td>\n",
       "      <td>3</td>\n",
       "      <td>2</td>\n",
       "      <td>1</td>\n",
       "      <td>1</td>\n",
       "      <td>0</td>\n",
       "      <td>41326</td>\n",
       "      <td>bcc4e1b9557a8b3aaf545ea8e6e86991</td>\n",
       "      <td>0</td>\n",
       "      <td>I rescued Yumi Hamasaki at a food stall far aw...</td>\n",
       "      <td>7d7a39d71</td>\n",
       "      <td>3.0</td>\n",
       "      <td>0</td>\n",
       "      <td>images/7d7a39d71-1.jpg</td>\n",
       "    </tr>\n",
       "    <tr>\n",
       "      <th>1</th>\n",
       "      <td>2</td>\n",
       "      <td>Nene/ Kimie</td>\n",
       "      <td>12</td>\n",
       "      <td>285</td>\n",
       "      <td>0</td>\n",
       "      <td>2</td>\n",
       "      <td>5</td>\n",
       "      <td>6</td>\n",
       "      <td>7</td>\n",
       "      <td>2</td>\n",
       "      <td>3</td>\n",
       "      <td>2</td>\n",
       "      <td>2</td>\n",
       "      <td>2</td>\n",
       "      <td>1</td>\n",
       "      <td>1</td>\n",
       "      <td>0</td>\n",
       "      <td>41326</td>\n",
       "      <td>f0450bf0efe0fa3ff9321d0b827b1237</td>\n",
       "      <td>0</td>\n",
       "      <td>Has adopted by a friend with new pet name Kimie</td>\n",
       "      <td>0e107c82f</td>\n",
       "      <td>3.0</td>\n",
       "      <td>0</td>\n",
       "      <td>images/0e107c82f-1.jpg</td>\n",
       "    </tr>\n",
       "    <tr>\n",
       "      <th>2</th>\n",
       "      <td>2</td>\n",
       "      <td>Mattie</td>\n",
       "      <td>12</td>\n",
       "      <td>266</td>\n",
       "      <td>0</td>\n",
       "      <td>2</td>\n",
       "      <td>1</td>\n",
       "      <td>7</td>\n",
       "      <td>0</td>\n",
       "      <td>2</td>\n",
       "      <td>1</td>\n",
       "      <td>1</td>\n",
       "      <td>1</td>\n",
       "      <td>1</td>\n",
       "      <td>1</td>\n",
       "      <td>1</td>\n",
       "      <td>0</td>\n",
       "      <td>41401</td>\n",
       "      <td>9b52af6d48a4521fd01d4028eb5879a3</td>\n",
       "      <td>0</td>\n",
       "      <td>I rescued Mattie with a broken leg. After surg...</td>\n",
       "      <td>1a8fd6707</td>\n",
       "      <td>5.0</td>\n",
       "      <td>0</td>\n",
       "      <td>images/1a8fd6707-1.jpg</td>\n",
       "    </tr>\n",
       "    <tr>\n",
       "      <th>3</th>\n",
       "      <td>1</td>\n",
       "      <td>NaN</td>\n",
       "      <td>1</td>\n",
       "      <td>189</td>\n",
       "      <td>307</td>\n",
       "      <td>2</td>\n",
       "      <td>1</td>\n",
       "      <td>2</td>\n",
       "      <td>0</td>\n",
       "      <td>2</td>\n",
       "      <td>1</td>\n",
       "      <td>1</td>\n",
       "      <td>1</td>\n",
       "      <td>2</td>\n",
       "      <td>1</td>\n",
       "      <td>1</td>\n",
       "      <td>0</td>\n",
       "      <td>41401</td>\n",
       "      <td>88da1210e021a5cf43480b074778f3bc</td>\n",
       "      <td>0</td>\n",
       "      <td>She born on 30 September . I really hope the a...</td>\n",
       "      <td>bca8b44ae</td>\n",
       "      <td>3.0</td>\n",
       "      <td>0</td>\n",
       "      <td>images/bca8b44ae-1.jpg</td>\n",
       "    </tr>\n",
       "    <tr>\n",
       "      <th>4</th>\n",
       "      <td>2</td>\n",
       "      <td>Coco</td>\n",
       "      <td>6</td>\n",
       "      <td>276</td>\n",
       "      <td>285</td>\n",
       "      <td>2</td>\n",
       "      <td>2</td>\n",
       "      <td>4</td>\n",
       "      <td>7</td>\n",
       "      <td>2</td>\n",
       "      <td>2</td>\n",
       "      <td>1</td>\n",
       "      <td>1</td>\n",
       "      <td>2</td>\n",
       "      <td>1</td>\n",
       "      <td>1</td>\n",
       "      <td>100</td>\n",
       "      <td>41326</td>\n",
       "      <td>227d7b1bcfaffb5f9882bf57b5ee8fab</td>\n",
       "      <td>0</td>\n",
       "      <td>Calico Tame and easy going Diet RC Kitten Supp...</td>\n",
       "      <td>2def67952</td>\n",
       "      <td>1.0</td>\n",
       "      <td>0</td>\n",
       "      <td>images/2def67952-1.jpg</td>\n",
       "    </tr>\n",
       "  </tbody>\n",
       "</table>\n",
       "</div>"
      ],
      "text/plain": [
       "   Type           Name  Age  ...  PhotoAmt  AdoptionSpeed                  Images\n",
       "0     2  Yumi Hamasaki    4  ...       3.0              0  images/7d7a39d71-1.jpg\n",
       "1     2    Nene/ Kimie   12  ...       3.0              0  images/0e107c82f-1.jpg\n",
       "2     2         Mattie   12  ...       5.0              0  images/1a8fd6707-1.jpg\n",
       "3     1            NaN    1  ...       3.0              0  images/bca8b44ae-1.jpg\n",
       "4     2           Coco    6  ...       1.0              0  images/2def67952-1.jpg\n",
       "\n",
       "[5 rows x 25 columns]"
      ]
     },
     "execution_count": 3,
     "metadata": {},
     "output_type": "execute_result"
    }
   ],
   "source": [
    "data.head()"
   ]
  },
  {
   "cell_type": "code",
   "execution_count": 4,
   "metadata": {},
   "outputs": [],
   "source": [
    "import os"
   ]
  },
  {
   "cell_type": "code",
   "execution_count": 5,
   "metadata": {},
   "outputs": [
    {
     "data": {
      "text/plain": [
       "'c:\\\\Users\\\\manor\\\\Downloads\\\\Automated Machine Learning with AutoGluon Library in Python\\\\01_multi_modal'"
      ]
     },
     "execution_count": 5,
     "metadata": {},
     "output_type": "execute_result"
    }
   ],
   "source": [
    "os.getcwd()"
   ]
  },
  {
   "cell_type": "code",
   "execution_count": 6,
   "metadata": {},
   "outputs": [],
   "source": [
    "# Format image data for model\n",
    "data_directory = \"\\\\data\\\\petfinder\\\\\""
   ]
  },
  {
   "cell_type": "code",
   "execution_count": 7,
   "metadata": {},
   "outputs": [],
   "source": [
    "def full_image_path(image_file):\n",
    "    return os.getcwd()+data_directory+image_file"
   ]
  },
  {
   "cell_type": "code",
   "execution_count": 8,
   "metadata": {},
   "outputs": [],
   "source": [
    "data['Images'] = data['Images'].apply(full_image_path)"
   ]
  },
  {
   "cell_type": "code",
   "execution_count": 9,
   "metadata": {},
   "outputs": [
    {
     "data": {
      "text/plain": [
       "0    c:\\Users\\manor\\Downloads\\Automated Machine Lea...\n",
       "1    c:\\Users\\manor\\Downloads\\Automated Machine Lea...\n",
       "2    c:\\Users\\manor\\Downloads\\Automated Machine Lea...\n",
       "3    c:\\Users\\manor\\Downloads\\Automated Machine Lea...\n",
       "4    c:\\Users\\manor\\Downloads\\Automated Machine Lea...\n",
       "Name: Images, dtype: object"
      ]
     },
     "execution_count": 9,
     "metadata": {},
     "output_type": "execute_result"
    }
   ],
   "source": [
    "data['Images'].head()"
   ]
  },
  {
   "cell_type": "code",
   "execution_count": 10,
   "metadata": {},
   "outputs": [
    {
     "data": {
      "text/plain": [
       "'c:\\\\Users\\\\manor\\\\Downloads\\\\Automated Machine Learning with AutoGluon Library in Python\\\\01_multi_modal\\\\data\\\\petfinder\\\\images/7d7a39d71-1.jpg'"
      ]
     },
     "execution_count": 10,
     "metadata": {},
     "output_type": "execute_result"
    }
   ],
   "source": [
    "data['Images'][0]"
   ]
  },
  {
   "cell_type": "code",
   "execution_count": 11,
   "metadata": {},
   "outputs": [],
   "source": [
    "from IPython.display import Image, display"
   ]
  },
  {
   "cell_type": "code",
   "execution_count": 12,
   "metadata": {},
   "outputs": [
    {
     "data": {
      "image/jpeg": "[encoded data removed]",
      "text/plain": [
       "<IPython.core.display.Image object>"
      ]
     },
     "metadata": {},
     "output_type": "display_data"
    }
   ],
   "source": [
    "display(Image(data['Images'][0]))"
   ]
  },
  {
   "cell_type": "code",
   "execution_count": 13,
   "metadata": {},
   "outputs": [
    {
     "data": {
      "text/plain": [
       "700"
      ]
     },
     "execution_count": 13,
     "metadata": {},
     "output_type": "execute_result"
    }
   ],
   "source": [
    "len(data)"
   ]
  },
  {
   "cell_type": "code",
   "execution_count": 14,
   "metadata": {},
   "outputs": [],
   "source": [
    "train_data = data.sample(600)\n",
    "test_data = data.drop(train_data.index)"
   ]
  },
  {
   "cell_type": "code",
   "execution_count": 15,
   "metadata": {},
   "outputs": [
    {
     "data": {
      "text/html": [
       "<div>\n",
       "<style scoped>\n",
       "    .dataframe tbody tr th:only-of-type {\n",
       "        vertical-align: middle;\n",
       "    }\n",
       "\n",
       "    .dataframe tbody tr th {\n",
       "        vertical-align: top;\n",
       "    }\n",
       "\n",
       "    .dataframe thead th {\n",
       "        text-align: right;\n",
       "    }\n",
       "</style>\n",
       "<table border=\"1\" class=\"dataframe\">\n",
       "  <thead>\n",
       "    <tr style=\"text-align: right;\">\n",
       "      <th></th>\n",
       "      <th>Type</th>\n",
       "      <th>Name</th>\n",
       "      <th>Age</th>\n",
       "      <th>Breed1</th>\n",
       "      <th>Breed2</th>\n",
       "      <th>Gender</th>\n",
       "      <th>Color1</th>\n",
       "      <th>Color2</th>\n",
       "      <th>Color3</th>\n",
       "      <th>MaturitySize</th>\n",
       "      <th>FurLength</th>\n",
       "      <th>Vaccinated</th>\n",
       "      <th>Dewormed</th>\n",
       "      <th>Sterilized</th>\n",
       "      <th>Health</th>\n",
       "      <th>Quantity</th>\n",
       "      <th>Fee</th>\n",
       "      <th>State</th>\n",
       "      <th>RescuerID</th>\n",
       "      <th>VideoAmt</th>\n",
       "      <th>Description</th>\n",
       "      <th>PetID</th>\n",
       "      <th>PhotoAmt</th>\n",
       "      <th>AdoptionSpeed</th>\n",
       "      <th>Images</th>\n",
       "    </tr>\n",
       "  </thead>\n",
       "  <tbody>\n",
       "    <tr>\n",
       "      <th>686</th>\n",
       "      <td>2</td>\n",
       "      <td>Maru And Mia</td>\n",
       "      <td>12</td>\n",
       "      <td>265</td>\n",
       "      <td>265</td>\n",
       "      <td>1</td>\n",
       "      <td>1</td>\n",
       "      <td>2</td>\n",
       "      <td>5</td>\n",
       "      <td>2</td>\n",
       "      <td>2</td>\n",
       "      <td>1</td>\n",
       "      <td>2</td>\n",
       "      <td>2</td>\n",
       "      <td>1</td>\n",
       "      <td>2</td>\n",
       "      <td>0</td>\n",
       "      <td>41401</td>\n",
       "      <td>a08f2c12760a5279acc52bb74b5c3683</td>\n",
       "      <td>0</td>\n",
       "      <td>:)</td>\n",
       "      <td>9ad448a42</td>\n",
       "      <td>1.0</td>\n",
       "      <td>0</td>\n",
       "      <td>c:\\Users\\manor\\Downloads\\Automated Machine Lea...</td>\n",
       "    </tr>\n",
       "    <tr>\n",
       "      <th>592</th>\n",
       "      <td>1</td>\n",
       "      <td>Casey</td>\n",
       "      <td>2</td>\n",
       "      <td>307</td>\n",
       "      <td>0</td>\n",
       "      <td>1</td>\n",
       "      <td>2</td>\n",
       "      <td>5</td>\n",
       "      <td>0</td>\n",
       "      <td>2</td>\n",
       "      <td>1</td>\n",
       "      <td>2</td>\n",
       "      <td>2</td>\n",
       "      <td>2</td>\n",
       "      <td>1</td>\n",
       "      <td>1</td>\n",
       "      <td>0</td>\n",
       "      <td>41326</td>\n",
       "      <td>d764c4fd47f73438f82f2e7f11c8624e</td>\n",
       "      <td>0</td>\n",
       "      <td>I've been feeding Casey's mum and his other si...</td>\n",
       "      <td>639a4bcfd</td>\n",
       "      <td>3.0</td>\n",
       "      <td>1</td>\n",
       "      <td>c:\\Users\\manor\\Downloads\\Automated Machine Lea...</td>\n",
       "    </tr>\n",
       "  </tbody>\n",
       "</table>\n",
       "</div>"
      ],
      "text/plain": [
       "     Type  ...                                             Images\n",
       "686     2  ...  c:\\Users\\manor\\Downloads\\Automated Machine Lea...\n",
       "592     1  ...  c:\\Users\\manor\\Downloads\\Automated Machine Lea...\n",
       "\n",
       "[2 rows x 25 columns]"
      ]
     },
     "execution_count": 15,
     "metadata": {},
     "output_type": "execute_result"
    }
   ],
   "source": [
    "# train_data.head(2)"
   ]
  },
  {
   "cell_type": "code",
   "execution_count": 16,
   "metadata": {},
   "outputs": [],
   "source": [
    "# Predicting the AdoptionSpeed col"
   ]
  },
  {
   "cell_type": "code",
   "execution_count": 17,
   "metadata": {},
   "outputs": [],
   "source": [
    "label_col = \"AdoptionSpeed\""
   ]
  },
  {
   "cell_type": "code",
   "execution_count": 18,
   "metadata": {},
   "outputs": [],
   "source": [
    "from autogluon.multimodal import MultiModalPredictor"
   ]
  },
  {
   "cell_type": "code",
   "execution_count": 19,
   "metadata": {},
   "outputs": [],
   "source": [
    "predictor = MultiModalPredictor(label=label_col)"
   ]
  },
  {
   "cell_type": "code",
   "execution_count": 20,
   "metadata": {},
   "outputs": [
    {
     "name": "stderr",
     "output_type": "stream",
     "text": [
      "Global seed set to 123\n",
      "AutoMM starts to create your model. ✨\n",
      "\n",
      "- Model will be saved to \"c:\\Users\\manor\\Downloads\\Automated Machine Learning with AutoGluon Library in Python\\01_multi_modal\\test_mm_model\".\n",
      "\n",
      "- Validation metric is \"roc_auc\".\n",
      "\n",
      "- To track the learning progress, you can open a terminal and launch Tensorboard:\n",
      "    ```shell\n",
      "    # Assume you have installed tensorboard\n",
      "    tensorboard --logdir c:\\Users\\manor\\Downloads\\Automated Machine Learning with AutoGluon Library in Python\\01_multi_modal\\test_mm_model\n",
      "    ```\n",
      "\n",
      "Enjoy your coffee, and let AutoMM do the job ☕☕☕ Learn more at https://auto.gluon.ai\n",
      "\n",
      "c:\\Users\\manor\\Downloads\\Automated Machine Learning with AutoGluon Library in Python\\autogluon_venv\\lib\\site-packages\\torch\\functional.py:504: UserWarning: torch.meshgrid: in an upcoming release, it will be required to pass the indexing argument. (Triggered internally at C:\\actions-runner\\_work\\pytorch\\pytorch\\builder\\windows\\pytorch\\aten\\src\\ATen\\native\\TensorShape.cpp:3191.)\n",
      "  return _VF.meshgrid(tensors, **kwargs)  # type: ignore[attr-defined]\n",
      "Downloading: \"https://github.com/SwinTransformer/storage/releases/download/v1.0.0/swin_base_patch4_window7_224_22kto1k.pth\" to C:\\Users\\manor/.cache\\torch\\hub\\checkpoints\\swin_base_patch4_window7_224_22kto1k.pth\n",
      "c:\\Users\\manor\\Downloads\\Automated Machine Learning with AutoGluon Library in Python\\autogluon_venv\\lib\\site-packages\\torchmetrics\\utilities\\prints.py:36: UserWarning: Metric `AUROC` will save all targets and predictions in buffer. For large datasets this may lead to large memory footprint.\n",
      "  warnings.warn(*args, **kwargs)\n",
      "c:\\Users\\manor\\Downloads\\Automated Machine Learning with AutoGluon Library in Python\\autogluon_venv\\lib\\site-packages\\autogluon\\multimodal\\utils\\environment.py:93: UserWarning: Only CPU is detected in the instance. This may result in slow speed for MultiModalPredictor. Consider using an instance with GPU support.\n",
      "  warnings.warn(\n",
      "GPU available: False, used: False\n",
      "TPU available: False, using: 0 TPU cores\n",
      "IPU available: False, using: 0 IPUs\n",
      "HPU available: False, using: 0 HPUs\n",
      "\n",
      "  | Name              | Type                | Params\n",
      "----------------------------------------------------------\n",
      "0 | model             | MultimodalFusionMLP | 198 M \n",
      "1 | validation_metric | AUROC               | 0     \n",
      "2 | loss_func         | CrossEntropyLoss    | 0     \n",
      "----------------------------------------------------------\n",
      "198 M     Trainable params\n",
      "0         Non-trainable params\n",
      "198 M     Total params\n",
      "792.034   Total estimated model params size (MB)\n"
     ]
    },
    {
     "data": {
      "application/vnd.jupyter.widget-view+json": {
       "model_id": "38063cb76aa04cf083d18b8267f7bae1",
       "version_major": 2,
       "version_minor": 0
      },
      "text/plain": [
       "Sanity Checking: 0it [00:00, ?it/s]"
      ]
     },
     "metadata": {},
     "output_type": "display_data"
    },
    {
     "name": "stderr",
     "output_type": "stream",
     "text": [
      "c:\\Users\\manor\\Downloads\\Automated Machine Learning with AutoGluon Library in Python\\autogluon_venv\\lib\\site-packages\\pytorch_lightning\\trainer\\call.py:48: UserWarning: Detected KeyboardInterrupt, attempting graceful shutdown...\n",
      "  rank_zero_warn(\"Detected KeyboardInterrupt, attempting graceful shutdown...\")\n",
      "Exception ignored in: <function _MultiProcessingDataLoaderIter.__del__ at 0x0000022ABF8E9430>\n",
      "Traceback (most recent call last):\n",
      "  File \"c:\\Users\\manor\\Downloads\\Automated Machine Learning with AutoGluon Library in Python\\autogluon_venv\\lib\\site-packages\\torch\\utils\\data\\dataloader.py\", line 1466, in __del__\n",
      "    self._shutdown_workers()\n",
      "  File \"c:\\Users\\manor\\Downloads\\Automated Machine Learning with AutoGluon Library in Python\\autogluon_venv\\lib\\site-packages\\torch\\utils\\data\\dataloader.py\", line 1425, in _shutdown_workers\n",
      "    self._mark_worker_as_unavailable(worker_id, shutdown=True)\n",
      "  File \"c:\\Users\\manor\\Downloads\\Automated Machine Learning with AutoGluon Library in Python\\autogluon_venv\\lib\\site-packages\\torch\\utils\\data\\dataloader.py\", line 1367, in _mark_worker_as_unavailable\n",
      "    assert self._workers_status[worker_id] or (self._persistent_workers and shutdown)\n",
      "AttributeError: '_MultiProcessingDataLoaderIter' object has no attribute '_workers_status'\n"
     ]
    },
    {
     "ename": "KeyError",
     "evalue": "'val_roc_auc'",
     "output_type": "error",
     "traceback": [
      "\u001b[1;31m---------------------------------------------------------------------------\u001b[0m",
      "\u001b[1;31mKeyError\u001b[0m                                  Traceback (most recent call last)",
      "Cell \u001b[1;32mIn[20], line 1\u001b[0m\n\u001b[1;32m----> 1\u001b[0m predictor\u001b[39m.\u001b[39;49mfit(train_data\u001b[39m=\u001b[39;49mtrain_data,\n\u001b[0;32m      2\u001b[0m               time_limit\u001b[39m=\u001b[39;49m\u001b[39m120\u001b[39;49m,\n\u001b[0;32m      3\u001b[0m               save_path\u001b[39m=\u001b[39;49m\u001b[39m\"\u001b[39;49m\u001b[39mtest_mm_model\u001b[39;49m\u001b[39m\"\u001b[39;49m)\n",
      "File \u001b[1;32mc:\\Users\\manor\\Downloads\\Automated Machine Learning with AutoGluon Library in Python\\autogluon_venv\\lib\\site-packages\\autogluon\\multimodal\\predictor.py:825\u001b[0m, in \u001b[0;36mMultiModalPredictor.fit\u001b[1;34m(self, train_data, presets, config, tuning_data, max_num_tuning_data, id_mappings, time_limit, save_path, hyperparameters, column_types, holdout_frac, teacher_predictor, seed, standalone, hyperparameter_tune_kwargs, clean_ckpts)\u001b[0m\n\u001b[0;32m    818\u001b[0m     predictor \u001b[39m=\u001b[39m hyperparameter_tune(\n\u001b[0;32m    819\u001b[0m         hyperparameter_tune_kwargs\u001b[39m=\u001b[39mhyperparameter_tune_kwargs,\n\u001b[0;32m    820\u001b[0m         resources\u001b[39m=\u001b[39mresources,\n\u001b[0;32m    821\u001b[0m         \u001b[39m*\u001b[39m\u001b[39m*\u001b[39m_fit_args,\n\u001b[0;32m    822\u001b[0m     )\n\u001b[0;32m    823\u001b[0m     \u001b[39mreturn\u001b[39;00m predictor\n\u001b[1;32m--> 825\u001b[0m \u001b[39mself\u001b[39;49m\u001b[39m.\u001b[39;49m_fit(\u001b[39m*\u001b[39;49m\u001b[39m*\u001b[39;49m_fit_args)\n\u001b[0;32m    826\u001b[0m training_end \u001b[39m=\u001b[39m time\u001b[39m.\u001b[39mtime()\n\u001b[0;32m    827\u001b[0m \u001b[39mself\u001b[39m\u001b[39m.\u001b[39m_total_train_time \u001b[39m=\u001b[39m training_end \u001b[39m-\u001b[39m training_start\n",
      "File \u001b[1;32mc:\\Users\\manor\\Downloads\\Automated Machine Learning with AutoGluon Library in Python\\autogluon_venv\\lib\\site-packages\\autogluon\\multimodal\\predictor.py:1409\u001b[0m, in \u001b[0;36mMultiModalPredictor._fit\u001b[1;34m(self, train_df, val_df, validation_metric_name, minmax_mode, max_time, save_path, ckpt_path, resume, enable_progress_bar, presets, config, hyperparameters, teacher_predictor, hpo_mode, standalone, clean_ckpts, **hpo_kwargs)\u001b[0m\n\u001b[0;32m   1394\u001b[0m     \u001b[39mif\u001b[39;00m \u001b[39mnot\u001b[39;00m hpo_mode:\n\u001b[0;32m   1395\u001b[0m         \u001b[39mself\u001b[39m\u001b[39m.\u001b[39m_top_k_average(\n\u001b[0;32m   1396\u001b[0m             model\u001b[39m=\u001b[39mmodel,\n\u001b[0;32m   1397\u001b[0m             save_path\u001b[39m=\u001b[39msave_path,\n\u001b[1;32m   (...)\u001b[0m\n\u001b[0;32m   1407\u001b[0m             clean_ckpts\u001b[39m=\u001b[39mclean_ckpts,\n\u001b[0;32m   1408\u001b[0m         )\n\u001b[1;32m-> 1409\u001b[0m     \u001b[39mself\u001b[39m\u001b[39m.\u001b[39m_best_score \u001b[39m=\u001b[39m trainer\u001b[39m.\u001b[39;49mcallback_metrics[\u001b[39mf\u001b[39;49m\u001b[39m\"\u001b[39;49m\u001b[39mval_\u001b[39;49m\u001b[39m{\u001b[39;49;00m\u001b[39mself\u001b[39;49m\u001b[39m.\u001b[39;49m_validation_metric_name\u001b[39m}\u001b[39;49;00m\u001b[39m\"\u001b[39;49m]\u001b[39m.\u001b[39mitem()\n\u001b[0;32m   1410\u001b[0m \u001b[39melse\u001b[39;00m:\n\u001b[0;32m   1411\u001b[0m     sys\u001b[39m.\u001b[39mexit(\u001b[39mf\u001b[39m\u001b[39m\"\u001b[39m\u001b[39mTraining finished, exit the process with global_rank=\u001b[39m\u001b[39m{\u001b[39;00mtrainer\u001b[39m.\u001b[39mglobal_rank\u001b[39m}\u001b[39;00m\u001b[39m...\u001b[39m\u001b[39m\"\u001b[39m)\n",
      "\u001b[1;31mKeyError\u001b[0m: 'val_roc_auc'"
     ]
    }
   ],
   "source": [
    "predictor.fit(train_data=train_data,\n",
    "              time_limit=120,\n",
    "              save_path=\"test_mm_model\")"
   ]
  },
  {
   "cell_type": "code",
   "execution_count": 23,
   "metadata": {},
   "outputs": [
    {
     "name": "stderr",
     "output_type": "stream",
     "text": [
      "c:\\Users\\manor\\Downloads\\Automated Machine Learning with AutoGluon Library in Python\\autogluon_venv\\lib\\site-packages\\sklearn\\base.py:318: UserWarning: Trying to unpickle estimator SimpleImputer from version 1.1.3 when using version 1.2.2. This might lead to breaking code or invalid results. Use at your own risk. For more info please refer to:\n",
      "https://scikit-learn.org/stable/model_persistence.html#security-maintainability-limitations\n",
      "  warnings.warn(\n",
      "c:\\Users\\manor\\Downloads\\Automated Machine Learning with AutoGluon Library in Python\\autogluon_venv\\lib\\site-packages\\sklearn\\base.py:318: UserWarning: Trying to unpickle estimator StandardScaler from version 1.1.3 when using version 1.2.2. This might lead to breaking code or invalid results. Use at your own risk. For more info please refer to:\n",
      "https://scikit-learn.org/stable/model_persistence.html#security-maintainability-limitations\n",
      "  warnings.warn(\n",
      "c:\\Users\\manor\\Downloads\\Automated Machine Learning with AutoGluon Library in Python\\autogluon_venv\\lib\\site-packages\\sklearn\\base.py:318: UserWarning: Trying to unpickle estimator Pipeline from version 1.1.3 when using version 1.2.2. This might lead to breaking code or invalid results. Use at your own risk. For more info please refer to:\n",
      "https://scikit-learn.org/stable/model_persistence.html#security-maintainability-limitations\n",
      "  warnings.warn(\n",
      "c:\\Users\\manor\\Downloads\\Automated Machine Learning with AutoGluon Library in Python\\autogluon_venv\\lib\\site-packages\\sklearn\\base.py:318: UserWarning: Trying to unpickle estimator LabelEncoder from version 1.1.3 when using version 1.2.2. This might lead to breaking code or invalid results. Use at your own risk. For more info please refer to:\n",
      "https://scikit-learn.org/stable/model_persistence.html#security-maintainability-limitations\n",
      "  warnings.warn(\n",
      "Load pretrained checkpoint: c:\\Users\\manor\\Downloads\\Automated Machine Learning with AutoGluon Library in Python\\01_multi_modal\\pet_finder\\model.ckpt\n"
     ]
    }
   ],
   "source": [
    "predictor = MultiModalPredictor.load(\"pet_finder\")"
   ]
  },
  {
   "cell_type": "code",
   "execution_count": null,
   "metadata": {},
   "outputs": [
    {
     "data": {
      "application/json": {
       "ascii": false,
       "bar_format": null,
       "colour": null,
       "elapsed": 0.02991962432861328,
       "initial": 0,
       "n": 0,
       "ncols": 228,
       "nrows": 42,
       "postfix": null,
       "prefix": "Predicting",
       "rate": null,
       "total": null,
       "unit": "it",
       "unit_divisor": 1000,
       "unit_scale": false
      },
      "application/vnd.jupyter.widget-view+json": {
       "model_id": "39a7a5d486994ae0b3d5b89a69a2b9de",
       "version_major": 2,
       "version_minor": 0
      },
      "text/plain": [
       "Predicting: 0it [00:00, ?it/s]"
      ]
     },
     "metadata": {},
     "output_type": "display_data"
    },
    {
     "data": {
      "text/plain": [
       "{'roc_auc': 0.6196775527077305, 'acc': 0.62, 'f1': 0.703125}"
      ]
     },
     "metadata": {},
     "output_type": "display_data"
    }
   ],
   "source": [
    "scores = predictor.evaluate(test_data, metrics=[\"roc_auc\",\"acc\",'f1'])\n",
    "scores"
   ]
  },
  {
   "cell_type": "markdown",
   "metadata": {},
   "source": [
    "Predict on a few test examples:"
   ]
  },
  {
   "cell_type": "code",
   "execution_count": null,
   "metadata": {},
   "outputs": [
    {
     "data": {
      "text/plain": [
       "0     0\n",
       "6     0\n",
       "12    1\n",
       "13    1\n",
       "15    0\n",
       "Name: AdoptionSpeed, dtype: int64"
      ]
     },
     "metadata": {},
     "output_type": "display_data"
    }
   ],
   "source": [
    "first_five_test_features = test_data.drop(columns=label_col)[:5]\n",
    "predictions = predictor.predict(first_five_test_features)\n",
    "predictions"
   ]
  },
  {
   "cell_type": "markdown",
   "metadata": {},
   "source": [
    "Just like before, we can also do probabilities:"
   ]
  },
  {
   "cell_type": "code",
   "execution_count": null,
   "metadata": {},
   "outputs": [
    {
     "data": {
      "text/html": [
       "<div>\n",
       "<style scoped>\n",
       "    .dataframe tbody tr th:only-of-type {\n",
       "        vertical-align: middle;\n",
       "    }\n",
       "\n",
       "    .dataframe tbody tr th {\n",
       "        vertical-align: top;\n",
       "    }\n",
       "\n",
       "    .dataframe thead th {\n",
       "        text-align: right;\n",
       "    }\n",
       "</style>\n",
       "<table border=\"1\" class=\"dataframe\">\n",
       "  <thead>\n",
       "    <tr style=\"text-align: right;\">\n",
       "      <th></th>\n",
       "      <th>0</th>\n",
       "      <th>1</th>\n",
       "    </tr>\n",
       "  </thead>\n",
       "  <tbody>\n",
       "    <tr>\n",
       "      <th>0</th>\n",
       "      <td>0.770758</td>\n",
       "      <td>0.229242</td>\n",
       "    </tr>\n",
       "    <tr>\n",
       "      <th>6</th>\n",
       "      <td>0.662228</td>\n",
       "      <td>0.337772</td>\n",
       "    </tr>\n",
       "    <tr>\n",
       "      <th>12</th>\n",
       "      <td>0.465739</td>\n",
       "      <td>0.534261</td>\n",
       "    </tr>\n",
       "    <tr>\n",
       "      <th>13</th>\n",
       "      <td>0.306018</td>\n",
       "      <td>0.693982</td>\n",
       "    </tr>\n",
       "    <tr>\n",
       "      <th>15</th>\n",
       "      <td>0.523368</td>\n",
       "      <td>0.476632</td>\n",
       "    </tr>\n",
       "  </tbody>\n",
       "</table>\n",
       "</div>"
      ],
      "text/plain": [
       "           0         1\n",
       "0   0.770758  0.229242\n",
       "6   0.662228  0.337772\n",
       "12  0.465739  0.534261\n",
       "13  0.306018  0.693982\n",
       "15  0.523368  0.476632"
      ]
     },
     "metadata": {},
     "output_type": "display_data"
    }
   ],
   "source": [
    "first_five_test_features = test_data.drop(columns=label_col)[:5]\n",
    "predictions = predictor.predict_proba(first_five_test_features)\n",
    "predictions"
   ]
  }
 ],
 "metadata": {
  "kernelspec": {
   "display_name": "autogluon_venv",
   "language": "python",
   "name": "python3"
  },
  "language_info": {
   "codemirror_mode": {
    "name": "ipython",
    "version": 3
   },
   "file_extension": ".py",
   "mimetype": "text/x-python",
   "name": "python",
   "nbconvert_exporter": "python",
   "pygments_lexer": "ipython3",
   "version": "3.8.10"
  },
  "orig_nbformat": 4
 },
 "nbformat": 4,
 "nbformat_minor": 2
}
